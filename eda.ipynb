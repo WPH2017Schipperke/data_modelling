{
 "cells": [
  {
   "cell_type": "code",
   "execution_count": 9,
   "metadata": {},
   "outputs": [],
   "source": [
    "import numpy as np\n",
    "import pandas as pd\n",
    "import tensorflow as tf\n",
    "from matplotlib import pyplot as plt\n",
    "\n",
    "%matplotlib inline"
   ]
  },
  {
   "cell_type": "code",
   "execution_count": 4,
   "metadata": {},
   "outputs": [],
   "source": [
    "data = pd.read_csv(\"waze (4).csv\", sep=\";\")"
   ]
  },
  {
   "cell_type": "code",
   "execution_count": 20,
   "metadata": {},
   "outputs": [
    {
     "data": {
      "text/plain": [
       "Index(['WID', 'area', 'publicatedOn', 'updatedOn', 'closedOn', 'country',\n",
       "       'nThumbsUp', 'city', 'reportRating', 'reliability', 'type', 'uuid',\n",
       "       'speed', 'reportMood', 'subtype', 'street', 'id', 'additionalInfo',\n",
       "       'nearBy', 'roadType', 'wazeid', 'nComments', 'reportBy', 'inscale',\n",
       "       'comments', 'isThumbsUp', 'isJamUnifiedAlert', 'confidence', 'nImages',\n",
       "       'magvar', 'showFacebookPic', 'wazeData', 'reportDescription',\n",
       "       'locationx', 'locationy', 'pubMillis', 'provider', 'providerId',\n",
       "       'imageUrl', 'imageId', 'reportByActiveGroupName',\n",
       "       'reportByActiveGroupIcon', 'missing'],\n",
       "      dtype='object')"
      ]
     },
     "execution_count": 20,
     "metadata": {},
     "output_type": "execute_result"
    }
   ],
   "source": [
    "data.columns"
   ]
  },
  {
   "cell_type": "code",
   "execution_count": 6,
   "metadata": {},
   "outputs": [
    {
     "data": {
      "text/html": [
       "<div>\n",
       "<style>\n",
       "    .dataframe thead tr:only-child th {\n",
       "        text-align: right;\n",
       "    }\n",
       "\n",
       "    .dataframe thead th {\n",
       "        text-align: left;\n",
       "    }\n",
       "\n",
       "    .dataframe tbody tr th {\n",
       "        vertical-align: top;\n",
       "    }\n",
       "</style>\n",
       "<table border=\"1\" class=\"dataframe\">\n",
       "  <thead>\n",
       "    <tr style=\"text-align: right;\">\n",
       "      <th></th>\n",
       "      <th>WID</th>\n",
       "      <th>area</th>\n",
       "      <th>publicatedOn</th>\n",
       "      <th>updatedOn</th>\n",
       "      <th>closedOn</th>\n",
       "      <th>country</th>\n",
       "      <th>nThumbsUp</th>\n",
       "      <th>city</th>\n",
       "      <th>reportRating</th>\n",
       "      <th>reliability</th>\n",
       "      <th>...</th>\n",
       "      <th>locationx</th>\n",
       "      <th>locationy</th>\n",
       "      <th>pubMillis</th>\n",
       "      <th>provider</th>\n",
       "      <th>providerId</th>\n",
       "      <th>imageUrl</th>\n",
       "      <th>imageId</th>\n",
       "      <th>reportByActiveGroupName</th>\n",
       "      <th>reportByActiveGroupIcon</th>\n",
       "      <th>missing</th>\n",
       "    </tr>\n",
       "  </thead>\n",
       "  <tbody>\n",
       "    <tr>\n",
       "      <th>0</th>\n",
       "      <td>563271</td>\n",
       "      <td>28</td>\n",
       "      <td>20170521000855</td>\n",
       "      <td>NaN</td>\n",
       "      <td>20170521020508</td>\n",
       "      <td>NL</td>\n",
       "      <td>0</td>\n",
       "      <td>Rotterdam</td>\n",
       "      <td>0</td>\n",
       "      <td>6</td>\n",
       "      <td>...</td>\n",
       "      <td>4.500169</td>\n",
       "      <td>51.896241</td>\n",
       "      <td>1495318135783</td>\n",
       "      <td>NaN</td>\n",
       "      <td>NaN</td>\n",
       "      <td>NaN</td>\n",
       "      <td>NaN</td>\n",
       "      <td>NaN</td>\n",
       "      <td>NaN</td>\n",
       "      <td>NaN</td>\n",
       "    </tr>\n",
       "    <tr>\n",
       "      <th>1</th>\n",
       "      <td>563274</td>\n",
       "      <td>28</td>\n",
       "      <td>20170521000910</td>\n",
       "      <td>NaN</td>\n",
       "      <td>20170521003007</td>\n",
       "      <td>NL</td>\n",
       "      <td>0</td>\n",
       "      <td>Botlek</td>\n",
       "      <td>0</td>\n",
       "      <td>6</td>\n",
       "      <td>...</td>\n",
       "      <td>4.229999</td>\n",
       "      <td>51.901562</td>\n",
       "      <td>1495318150000</td>\n",
       "      <td>WazeFeed</td>\n",
       "      <td>RWS06_NLRTM001160350300018_3026411_01_2</td>\n",
       "      <td>NaN</td>\n",
       "      <td>NaN</td>\n",
       "      <td>NaN</td>\n",
       "      <td>NaN</td>\n",
       "      <td>NaN</td>\n",
       "    </tr>\n",
       "    <tr>\n",
       "      <th>2</th>\n",
       "      <td>563275</td>\n",
       "      <td>28</td>\n",
       "      <td>20170521000910</td>\n",
       "      <td>NaN</td>\n",
       "      <td>20170521003007</td>\n",
       "      <td>NL</td>\n",
       "      <td>0</td>\n",
       "      <td>Botlek</td>\n",
       "      <td>0</td>\n",
       "      <td>6</td>\n",
       "      <td>...</td>\n",
       "      <td>4.224363</td>\n",
       "      <td>51.900924</td>\n",
       "      <td>1495318150000</td>\n",
       "      <td>WazeFeed</td>\n",
       "      <td>RWS06_NLRTM001160350300018_3026411_01_1</td>\n",
       "      <td>NaN</td>\n",
       "      <td>NaN</td>\n",
       "      <td>NaN</td>\n",
       "      <td>NaN</td>\n",
       "      <td>NaN</td>\n",
       "    </tr>\n",
       "    <tr>\n",
       "      <th>3</th>\n",
       "      <td>563285</td>\n",
       "      <td>28</td>\n",
       "      <td>20170521002533</td>\n",
       "      <td>NaN</td>\n",
       "      <td>20170521004506</td>\n",
       "      <td>NL</td>\n",
       "      <td>0</td>\n",
       "      <td>Botlek</td>\n",
       "      <td>0</td>\n",
       "      <td>6</td>\n",
       "      <td>...</td>\n",
       "      <td>4.229999</td>\n",
       "      <td>51.901562</td>\n",
       "      <td>1495319133000</td>\n",
       "      <td>WazeFeed</td>\n",
       "      <td>RWS06_NLRTM001160350300018_3026426_01_2</td>\n",
       "      <td>NaN</td>\n",
       "      <td>NaN</td>\n",
       "      <td>NaN</td>\n",
       "      <td>NaN</td>\n",
       "      <td>NaN</td>\n",
       "    </tr>\n",
       "    <tr>\n",
       "      <th>4</th>\n",
       "      <td>563286</td>\n",
       "      <td>28</td>\n",
       "      <td>20170521002533</td>\n",
       "      <td>NaN</td>\n",
       "      <td>20170521004506</td>\n",
       "      <td>NL</td>\n",
       "      <td>0</td>\n",
       "      <td>Botlek</td>\n",
       "      <td>0</td>\n",
       "      <td>6</td>\n",
       "      <td>...</td>\n",
       "      <td>4.224363</td>\n",
       "      <td>51.900924</td>\n",
       "      <td>1495319133000</td>\n",
       "      <td>WazeFeed</td>\n",
       "      <td>RWS06_NLRTM001160350300018_3026426_01_1</td>\n",
       "      <td>NaN</td>\n",
       "      <td>NaN</td>\n",
       "      <td>NaN</td>\n",
       "      <td>NaN</td>\n",
       "      <td>NaN</td>\n",
       "    </tr>\n",
       "  </tbody>\n",
       "</table>\n",
       "<p>5 rows × 43 columns</p>\n",
       "</div>"
      ],
      "text/plain": [
       "      WID  area    publicatedOn  updatedOn        closedOn country  nThumbsUp  \\\n",
       "0  563271    28  20170521000855        NaN  20170521020508      NL          0   \n",
       "1  563274    28  20170521000910        NaN  20170521003007      NL          0   \n",
       "2  563275    28  20170521000910        NaN  20170521003007      NL          0   \n",
       "3  563285    28  20170521002533        NaN  20170521004506      NL          0   \n",
       "4  563286    28  20170521002533        NaN  20170521004506      NL          0   \n",
       "\n",
       "        city  reportRating  reliability   ...    locationx  locationy  \\\n",
       "0  Rotterdam             0            6   ...     4.500169  51.896241   \n",
       "1     Botlek             0            6   ...     4.229999  51.901562   \n",
       "2     Botlek             0            6   ...     4.224363  51.900924   \n",
       "3     Botlek             0            6   ...     4.229999  51.901562   \n",
       "4     Botlek             0            6   ...     4.224363  51.900924   \n",
       "\n",
       "       pubMillis  provider                               providerId imageUrl  \\\n",
       "0  1495318135783       NaN                                      NaN      NaN   \n",
       "1  1495318150000  WazeFeed  RWS06_NLRTM001160350300018_3026411_01_2      NaN   \n",
       "2  1495318150000  WazeFeed  RWS06_NLRTM001160350300018_3026411_01_1      NaN   \n",
       "3  1495319133000  WazeFeed  RWS06_NLRTM001160350300018_3026426_01_2      NaN   \n",
       "4  1495319133000  WazeFeed  RWS06_NLRTM001160350300018_3026426_01_1      NaN   \n",
       "\n",
       "  imageId reportByActiveGroupName reportByActiveGroupIcon  missing  \n",
       "0     NaN                     NaN                     NaN      NaN  \n",
       "1     NaN                     NaN                     NaN      NaN  \n",
       "2     NaN                     NaN                     NaN      NaN  \n",
       "3     NaN                     NaN                     NaN      NaN  \n",
       "4     NaN                     NaN                     NaN      NaN  \n",
       "\n",
       "[5 rows x 43 columns]"
      ]
     },
     "execution_count": 6,
     "metadata": {},
     "output_type": "execute_result"
    }
   ],
   "source": [
    "data.head()"
   ]
  },
  {
   "cell_type": "code",
   "execution_count": 42,
   "metadata": {},
   "outputs": [
    {
     "data": {
      "text/plain": [
       "array(['ROAD_CLOSED_EVENT', 'HAZARD_ON_ROAD_CONSTRUCTION',\n",
       "       'HAZARD_ON_SHOULDER_CAR_STOPPED', nan, 'POLICE_VISIBLE',\n",
       "       'ACCIDENT_MINOR', 'HAZARD_ON_ROAD_CAR_STOPPED',\n",
       "       'HAZARD_ON_ROAD_LANE_CLOSED', 'ROAD_CLOSED_HAZARD', 'POLICE_HIDING',\n",
       "       'HAZARD_ON_ROAD_OBJECT', 'HAZARD_ON_SHOULDER_ANIMALS',\n",
       "       'ACCIDENT_MAJOR', 'HAZARD_ON_SHOULDER', 'HAZARD_ON_ROAD_POT_HOLE',\n",
       "       'HAZARD_WEATHER', 'HAZARD_ON_SHOULDER_MISSING_SIGN',\n",
       "       'HAZARD_ON_ROAD_ROAD_KILL', 'HAZARD_ON_ROAD',\n",
       "       'ROAD_CLOSED_CONSTRUCTION', 'HAZARD_ON_ROAD_ICE'], dtype=object)"
      ]
     },
     "execution_count": 42,
     "metadata": {},
     "output_type": "execute_result"
    }
   ],
   "source": [
    "data['subtype'].unique()"
   ]
  },
  {
   "cell_type": "code",
   "execution_count": 16,
   "metadata": {},
   "outputs": [
    {
     "data": {
      "image/png": "[encoded data removed]",
      "text/plain": [
       "<matplotlib.figure.Figure at 0x16c070259e8>"
      ]
     },
     "metadata": {},
     "output_type": "display_data"
    }
   ],
   "source": [
    "plt.plot(data['locationx'], data['locationy'], \".\")\n",
    "plt.show()"
   ]
  },
  {
   "cell_type": "code",
   "execution_count": 25,
   "metadata": {},
   "outputs": [],
   "source": [
    "data['publicatedOn'] = pd.to_datetime(data['publicatedOn'], format=\"%Y%m%d%H%M%S\")"
   ]
  },
  {
   "cell_type": "code",
   "execution_count": 37,
   "metadata": {},
   "outputs": [],
   "source": [
    "data[\"hour\"] = data.publicatedOn.dt.hour"
   ]
  },
  {
   "cell_type": "code",
   "execution_count": 47,
   "metadata": {},
   "outputs": [
    {
     "data": {
      "text/plain": [
       "(array([ 1.,  2.,  0.,  1.,  0.,  1.,  0.,  1.,  0.,  0.,  1.,  0.,  2.,\n",
       "         0.,  2.,  0.,  0.,  5.,  0.,  3.,  0.,  4.,  1.]),\n",
       " array([  6.        ,   6.56521739,   7.13043478,   7.69565217,\n",
       "          8.26086957,   8.82608696,   9.39130435,   9.95652174,\n",
       "         10.52173913,  11.08695652,  11.65217391,  12.2173913 ,\n",
       "         12.7826087 ,  13.34782609,  13.91304348,  14.47826087,\n",
       "         15.04347826,  15.60869565,  16.17391304,  16.73913043,\n",
       "         17.30434783,  17.86956522,  18.43478261,  19.        ]),\n",
       " <a list of 23 Patch objects>)"
      ]
     },
     "execution_count": 47,
     "metadata": {},
     "output_type": "execute_result"
    },
    {
     "data": {
      "image/png": "[encoded data removed]",
      "text/plain": [
       "<matplotlib.figure.Figure at 0x16c06fdec50>"
      ]
     },
     "metadata": {},
     "output_type": "display_data"
    }
   ],
   "source": [
    "plt.hist(data.loc[data['subtype'] == 'ACCIDENT_MAJOR'][\"hour\"], bins=23)"
   ]
  },
  {
   "cell_type": "code",
   "execution_count": 48,
   "metadata": {},
   "outputs": [
    {
     "ename": "NameError",
     "evalue": "name 'head' is not defined",
     "output_type": "error",
     "traceback": [
      "\u001b[1;31m---------------------------------------------------------------------------\u001b[0m",
      "\u001b[1;31mNameError\u001b[0m                                 Traceback (most recent call last)",
      "\u001b[1;32m<ipython-input-48-8ec225d9fc5e>\u001b[0m in \u001b[0;36m<module>\u001b[1;34m()\u001b[0m\n\u001b[1;32m----> 1\u001b[1;33m \u001b[0mhead\u001b[0m\u001b[1;33m(\u001b[0m\u001b[1;33m)\u001b[0m\u001b[1;33m\u001b[0m\u001b[0m\n\u001b[0m",
      "\u001b[1;31mNameError\u001b[0m: name 'head' is not defined"
     ]
    }
   ],
   "source": [
    "head()"
   ]
  },
  {
   "cell_type": "code",
   "execution_count": null,
   "metadata": {
    "collapsed": true
   },
   "outputs": [],
   "source": []
  }
 ],
 "metadata": {
  "kernelspec": {
   "display_name": "Python 3",
   "language": "python",
   "name": "python3"
  },
  "language_info": {
   "codemirror_mode": {
    "name": "ipython",
    "version": 3
   },
   "file_extension": ".py",
   "mimetype": "text/x-python",
   "name": "python",
   "nbconvert_exporter": "python",
   "pygments_lexer": "ipython3",
   "version": "3.6.1"
  }
 },
 "nbformat": 4,
 "nbformat_minor": 2
}
