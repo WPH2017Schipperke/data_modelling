{
 "cells": [
  {
   "cell_type": "code",
   "execution_count": 2,
   "metadata": {
    "collapsed": true
   },
   "outputs": [],
   "source": [
    "import numpy as np\n",
    "import pandas as pd\n",
    "# import tensorflow as tf\n",
    "from matplotlib import pyplot as plt\n",
    "import  datetime\n",
    "import os\n",
    "import gzip\n",
    "%matplotlib inline"
   ]
  },
  {
   "cell_type": "code",
   "execution_count": 3,
   "metadata": {},
   "outputs": [
    {
     "name": "stdout",
     "output_type": "stream",
     "text": [
      "['ROAD_CLOSED_EVENT' 'HAZARD_ON_ROAD_CONSTRUCTION'\n",
      " 'HAZARD_ON_SHOULDER_CAR_STOPPED' nan 'POLICE_VISIBLE' 'ACCIDENT_MINOR'\n",
      " 'HAZARD_ON_ROAD_CAR_STOPPED' 'HAZARD_ON_ROAD_LANE_CLOSED'\n",
      " 'ROAD_CLOSED_HAZARD' 'POLICE_HIDING' 'HAZARD_ON_ROAD_OBJECT'\n",
      " 'HAZARD_ON_SHOULDER_ANIMALS' 'ACCIDENT_MAJOR' 'HAZARD_ON_SHOULDER'\n",
      " 'HAZARD_ON_ROAD_POT_HOLE' 'HAZARD_WEATHER'\n",
      " 'HAZARD_ON_SHOULDER_MISSING_SIGN' 'HAZARD_ON_ROAD_ROAD_KILL'\n",
      " 'HAZARD_ON_ROAD' 'ROAD_CLOSED_CONSTRUCTION' 'HAZARD_ON_ROAD_ICE']\n"
     ]
    }
   ],
   "source": [
    "waze = pd.read_csv(\"../waze (4).csv\", sep=\";\")\n",
    "print(waze['subtype'].unique())"
   ]
  },
  {
   "cell_type": "code",
   "execution_count": 10,
   "metadata": {},
   "outputs": [
    {
     "data": {
      "text/plain": [
       "Index(['WID', 'area', 'publicatedOn', 'updatedOn', 'closedOn', 'country',\n",
       "       'nThumbsUp', 'city', 'reportRating', 'reliability', 'type', 'uuid',\n",
       "       'speed', 'reportMood', 'subtype', 'street', 'id', 'additionalInfo',\n",
       "       'nearBy', 'roadType', 'wazeid', 'nComments', 'reportBy', 'inscale',\n",
       "       'comments', 'isThumbsUp', 'isJamUnifiedAlert', 'confidence', 'nImages',\n",
       "       'magvar', 'showFacebookPic', 'wazeData', 'reportDescription',\n",
       "       'locationx', 'locationy', 'pubMillis', 'provider', 'providerId',\n",
       "       'imageUrl', 'imageId', 'reportByActiveGroupName',\n",
       "       'reportByActiveGroupIcon', 'missing'],\n",
       "      dtype='object')"
      ]
     },
     "execution_count": 10,
     "metadata": {},
     "output_type": "execute_result"
    }
   ],
   "source": [
    "waze.columns"
   ]
  },
  {
   "cell_type": "code",
   "execution_count": 14,
   "metadata": {},
   "outputs": [],
   "source": [
    "w_g = waze.groupby(['locationx', 'locationy'])['area'].count()"
   ]
  },
  {
   "cell_type": "code",
   "execution_count": 28,
   "metadata": {
    "scrolled": true
   },
   "outputs": [
    {
     "data": {
      "image/png": "[encoded data removed]",
      "text/plain": [
       "<matplotlib.figure.Figure at 0x17cdcc2e198>"
      ]
     },
     "metadata": {},
     "output_type": "display_data"
    }
   ],
   "source": [
    "plt.plot(waze['locationx'], waze['locationy'], \".\")\n",
    "plt.show()"
   ]
  },
  {
   "cell_type": "code",
   "execution_count": 47,
   "metadata": {},
   "outputs": [
    {
     "data": {
      "text/plain": [
       "array(['Storing',\n",
       "       'Calandbrug over Calandkanaal. Open sinds: 00:09 uur. Gemiddeld open: 15 minuten.',\n",
       "       'Calandbrug over Calandkanaal. Open sinds: 00:25 uur. Gemiddeld open: 15 minuten.',\n",
       "       ..., 'Voorwerp op de weg: A4 bij hmp 71,4',\n",
       "       'Calandbrug over Calandkanaal. Open sinds: 23:41 uur. Gemiddeld open: 16 minuten.',\n",
       "       'Roparun'], dtype=object)"
      ]
     },
     "execution_count": 47,
     "metadata": {},
     "output_type": "execute_result"
    }
   ],
   "source": [
    "waze['reportDescription'].unique()"
   ]
  },
  {
   "cell_type": "code",
   "execution_count": 40,
   "metadata": {},
   "outputs": [
    {
     "data": {
      "text/plain": [
       "(array([ 1.,  2.,  0.,  1.,  0.,  1.,  0.,  1.,  0.,  0.,  1.,  0.,  2.,\n",
       "         0.,  2.,  0.,  0.,  5.,  0.,  3.,  0.,  4.,  1.]),\n",
       " array([  6.        ,   6.56521739,   7.13043478,   7.69565217,\n",
       "          8.26086957,   8.82608696,   9.39130435,   9.95652174,\n",
       "         10.52173913,  11.08695652,  11.65217391,  12.2173913 ,\n",
       "         12.7826087 ,  13.34782609,  13.91304348,  14.47826087,\n",
       "         15.04347826,  15.60869565,  16.17391304,  16.73913043,\n",
       "         17.30434783,  17.86956522,  18.43478261,  19.        ]),\n",
       " <a list of 23 Patch objects>)"
      ]
     },
     "execution_count": 40,
     "metadata": {},
     "output_type": "execute_result"
    },
    {
     "data": {
      "image/png": "[encoded data removed]",
      "text/plain": [
       "<matplotlib.figure.Figure at 0x17cdcef5828>"
      ]
     },
     "metadata": {},
     "output_type": "display_data"
    }
   ],
   "source": [
    "waze['publicatedOn'] = pd.to_datetime(waze['publicatedOn'], format=\"%Y%m%d%H%M%S\")\n",
    "\n",
    "waze[\"hour\"] = waze.publicatedOn.dt.hour\n",
    "\n",
    "plt.hist(waze.loc[waze['subtype'] == 'ACCIDENT_MAJOR'][\"hour\"], bins=23)\n",
    "waze.columns = ['WID', 'area', 'publicatedOn', 'updatedOn', 'closedOn', 'country',\n",
    "       'nThumbsUp', 'city', 'reportRating', 'reliability', 'type', 'uuid',\n",
    "       'speed', 'reportMood', 'subtype', 'street', 'id', 'additionalInfo',\n",
    "       'nearBy', 'roadType', 'wazeid', 'nComments', 'reportBy', 'inscale',\n",
    "       'comments', 'isThumbsUp', 'isJamUnifiedAlert', 'confidence', 'nImages',\n",
    "       'magvar', 'showFacebookPic', 'wazeData', 'reportDescription',\n",
    "       'x', 'y', 'pubMillis', 'provider', 'providerId',\n",
    "       'imageUrl', 'imageId', 'reportByActiveGroupName',\n",
    "       'reportByActiveGroupIcon', 'missing', 'hour']"
   ]
  },
  {
   "cell_type": "code",
   "execution_count": 50,
   "metadata": {
    "collapsed": true
   },
   "outputs": [],
   "source": [
    "incidents = pd.read_excel(\"../Incidents_WPH_Car.xlsx\")"
   ]
  },
  {
   "cell_type": "code",
   "execution_count": 51,
   "metadata": {},
   "outputs": [
    {
     "data": {
      "text/html": [
       "<div>\n",
       "<style>\n",
       "    .dataframe thead tr:only-child th {\n",
       "        text-align: right;\n",
       "    }\n",
       "\n",
       "    .dataframe thead th {\n",
       "        text-align: left;\n",
       "    }\n",
       "\n",
       "    .dataframe tbody tr th {\n",
       "        vertical-align: top;\n",
       "    }\n",
       "</style>\n",
       "<table border=\"1\" class=\"dataframe\">\n",
       "  <thead>\n",
       "    <tr style=\"text-align: right;\">\n",
       "      <th></th>\n",
       "      <th>datum</th>\n",
       "      <th>gemelde locatie</th>\n",
       "      <th>werkelijke locatie</th>\n",
       "      <th>tijdstip melding</th>\n",
       "      <th>tijdstip aankomst</th>\n",
       "    </tr>\n",
       "  </thead>\n",
       "  <tbody>\n",
       "    <tr>\n",
       "      <th>0</th>\n",
       "      <td>2017-05-22</td>\n",
       "      <td>16 L 20.5</td>\n",
       "      <td>16 L 20.68</td>\n",
       "      <td>06:37:16</td>\n",
       "      <td>06:57:27</td>\n",
       "    </tr>\n",
       "    <tr>\n",
       "      <th>1</th>\n",
       "      <td>2017-05-22</td>\n",
       "      <td>15 R 60.8</td>\n",
       "      <td>29 L 9.56 s</td>\n",
       "      <td>06:49:51</td>\n",
       "      <td>06:49:26</td>\n",
       "    </tr>\n",
       "    <tr>\n",
       "      <th>2</th>\n",
       "      <td>2017-05-22</td>\n",
       "      <td>15 R 53.3 a</td>\n",
       "      <td>15 R 53.27 a</td>\n",
       "      <td>07:18:40</td>\n",
       "      <td>07:30:07</td>\n",
       "    </tr>\n",
       "    <tr>\n",
       "      <th>3</th>\n",
       "      <td>2017-05-22</td>\n",
       "      <td>20 L 29.6</td>\n",
       "      <td>20 L 29.69 s</td>\n",
       "      <td>07:23:40</td>\n",
       "      <td>07:36:28</td>\n",
       "    </tr>\n",
       "    <tr>\n",
       "      <th>4</th>\n",
       "      <td>2017-05-22</td>\n",
       "      <td>20 L 34.3</td>\n",
       "      <td>20 L 34.25 v</td>\n",
       "      <td>07:24:07</td>\n",
       "      <td>07:29:15</td>\n",
       "    </tr>\n",
       "  </tbody>\n",
       "</table>\n",
       "</div>"
      ],
      "text/plain": [
       "       datum gemelde locatie werkelijke locatie tijdstip melding  \\\n",
       "0 2017-05-22       16 L 20.5        16 L 20.68          06:37:16   \n",
       "1 2017-05-22       15 R 60.8        29 L 9.56 s         06:49:51   \n",
       "2 2017-05-22     15 R 53.3 a       15 R 53.27 a         07:18:40   \n",
       "3 2017-05-22       20 L 29.6       20 L 29.69 s         07:23:40   \n",
       "4 2017-05-22       20 L 34.3       20 L 34.25 v         07:24:07   \n",
       "\n",
       "  tijdstip aankomst  \n",
       "0          06:57:27  \n",
       "1          06:49:26  \n",
       "2          07:30:07  \n",
       "3          07:36:28  \n",
       "4          07:29:15  "
      ]
     },
     "execution_count": 51,
     "metadata": {},
     "output_type": "execute_result"
    }
   ],
   "source": [
    "incidents.head()"
   ]
  },
  {
   "cell_type": "code",
   "execution_count": 23,
   "metadata": {
    "collapsed": true
   },
   "outputs": [],
   "source": [
    "flitsmeister = pd.read_csv(\"../flitsmeister week 21 22/2017-05-22_17.csv\")"
   ]
  },
  {
   "cell_type": "code",
   "execution_count": 24,
   "metadata": {},
   "outputs": [
    {
     "data": {
      "text/html": [
       "<div>\n",
       "<style>\n",
       "    .dataframe thead tr:only-child th {\n",
       "        text-align: right;\n",
       "    }\n",
       "\n",
       "    .dataframe thead th {\n",
       "        text-align: left;\n",
       "    }\n",
       "\n",
       "    .dataframe tbody tr th {\n",
       "        vertical-align: top;\n",
       "    }\n",
       "</style>\n",
       "<table border=\"1\" class=\"dataframe\">\n",
       "  <thead>\n",
       "    <tr style=\"text-align: right;\">\n",
       "      <th></th>\n",
       "      <th>RowID</th>\n",
       "      <th>SessionID</th>\n",
       "      <th>Latitude</th>\n",
       "      <th>Longitude</th>\n",
       "      <th>Bearing</th>\n",
       "      <th>Speed</th>\n",
       "      <th>created_at</th>\n",
       "      <th>geohash</th>\n",
       "      <th>SessionCount</th>\n",
       "    </tr>\n",
       "  </thead>\n",
       "  <tbody>\n",
       "    <tr>\n",
       "      <th>0</th>\n",
       "      <td>456393953</td>\n",
       "      <td>FC847645-41FA-4C24-AB47-134042D9C1FB</td>\n",
       "      <td>51.864525</td>\n",
       "      <td>4.526764</td>\n",
       "      <td>284</td>\n",
       "      <td>46</td>\n",
       "      <td>Mon May 22 2017 14:58:03 GMT+0200 (CEST)</td>\n",
       "      <td>u15pp18</td>\n",
       "      <td>NaN</td>\n",
       "    </tr>\n",
       "    <tr>\n",
       "      <th>1</th>\n",
       "      <td>456393954</td>\n",
       "      <td>FC847645-41FA-4C24-AB47-134042D9C1FB</td>\n",
       "      <td>51.864556</td>\n",
       "      <td>4.526617</td>\n",
       "      <td>286</td>\n",
       "      <td>39</td>\n",
       "      <td>Mon May 22 2017 14:58:03 GMT+0200 (CEST)</td>\n",
       "      <td>u15pp18</td>\n",
       "      <td>NaN</td>\n",
       "    </tr>\n",
       "    <tr>\n",
       "      <th>2</th>\n",
       "      <td>456393955</td>\n",
       "      <td>FC847645-41FA-4C24-AB47-134042D9C1FB</td>\n",
       "      <td>51.864584</td>\n",
       "      <td>4.526479</td>\n",
       "      <td>287</td>\n",
       "      <td>37</td>\n",
       "      <td>Mon May 22 2017 14:58:03 GMT+0200 (CEST)</td>\n",
       "      <td>u15pp18</td>\n",
       "      <td>NaN</td>\n",
       "    </tr>\n",
       "    <tr>\n",
       "      <th>3</th>\n",
       "      <td>456393956</td>\n",
       "      <td>FC847645-41FA-4C24-AB47-134042D9C1FB</td>\n",
       "      <td>51.864581</td>\n",
       "      <td>4.526385</td>\n",
       "      <td>285</td>\n",
       "      <td>28</td>\n",
       "      <td>Mon May 22 2017 14:58:03 GMT+0200 (CEST)</td>\n",
       "      <td>u15pp18</td>\n",
       "      <td>NaN</td>\n",
       "    </tr>\n",
       "    <tr>\n",
       "      <th>4</th>\n",
       "      <td>456393957</td>\n",
       "      <td>FC847645-41FA-4C24-AB47-134042D9C1FB</td>\n",
       "      <td>51.864601</td>\n",
       "      <td>4.526271</td>\n",
       "      <td>286</td>\n",
       "      <td>28</td>\n",
       "      <td>Mon May 22 2017 14:58:03 GMT+0200 (CEST)</td>\n",
       "      <td>u15pncx</td>\n",
       "      <td>NaN</td>\n",
       "    </tr>\n",
       "  </tbody>\n",
       "</table>\n",
       "</div>"
      ],
      "text/plain": [
       "       RowID                             SessionID   Latitude  Longitude  \\\n",
       "0  456393953  FC847645-41FA-4C24-AB47-134042D9C1FB  51.864525   4.526764   \n",
       "1  456393954  FC847645-41FA-4C24-AB47-134042D9C1FB  51.864556   4.526617   \n",
       "2  456393955  FC847645-41FA-4C24-AB47-134042D9C1FB  51.864584   4.526479   \n",
       "3  456393956  FC847645-41FA-4C24-AB47-134042D9C1FB  51.864581   4.526385   \n",
       "4  456393957  FC847645-41FA-4C24-AB47-134042D9C1FB  51.864601   4.526271   \n",
       "\n",
       "   Bearing  Speed                                created_at  geohash  \\\n",
       "0      284     46  Mon May 22 2017 14:58:03 GMT+0200 (CEST)  u15pp18   \n",
       "1      286     39  Mon May 22 2017 14:58:03 GMT+0200 (CEST)  u15pp18   \n",
       "2      287     37  Mon May 22 2017 14:58:03 GMT+0200 (CEST)  u15pp18   \n",
       "3      285     28  Mon May 22 2017 14:58:03 GMT+0200 (CEST)  u15pp18   \n",
       "4      286     28  Mon May 22 2017 14:58:03 GMT+0200 (CEST)  u15pncx   \n",
       "\n",
       "   SessionCount  \n",
       "0           NaN  \n",
       "1           NaN  \n",
       "2           NaN  \n",
       "3           NaN  \n",
       "4           NaN  "
      ]
     },
     "execution_count": 24,
     "metadata": {},
     "output_type": "execute_result"
    }
   ],
   "source": [
    "flitsmeister.head()"
   ]
  },
  {
   "cell_type": "code",
   "execution_count": 26,
   "metadata": {},
   "outputs": [
    {
     "data": {
      "text/plain": [
       "(2094754, 9)"
      ]
     },
     "execution_count": 26,
     "metadata": {},
     "output_type": "execute_result"
    }
   ],
   "source": [
    "flitsmeister.shape"
   ]
  },
  {
   "cell_type": "code",
   "execution_count": 28,
   "metadata": {},
   "outputs": [
    {
     "data": {
      "text/plain": [
       "4617"
      ]
     },
     "execution_count": 28,
     "metadata": {},
     "output_type": "execute_result"
    }
   ],
   "source": [
    "flitsmeister[\"SessionID\"].nunique()"
   ]
  },
  {
   "cell_type": "code",
   "execution_count": 31,
   "metadata": {},
   "outputs": [
    {
     "data": {
      "text/plain": [
       "(array([  1.83640000e+05,   1.19281000e+05,   1.14670000e+05,\n",
       "          1.01321000e+05,   9.55420000e+04,   1.05778000e+05,\n",
       "          8.79620000e+04,   8.17410000e+04,   7.74440000e+04,\n",
       "          8.09580000e+04,   1.20480000e+05,   1.31225000e+05,\n",
       "          1.50358000e+05,   1.89395000e+05,   1.88347000e+05,\n",
       "          1.43809000e+05,   7.21450000e+04,   3.29810000e+04,\n",
       "          1.24630000e+04,   3.30700000e+03,   8.80000000e+02,\n",
       "          3.12000000e+02,   1.44000000e+02,   6.20000000e+01,\n",
       "          3.70000000e+01,   2.10000000e+01,   6.40000000e+01,\n",
       "          9.00000000e+01,   1.06000000e+02,   4.80000000e+01,\n",
       "          6.90000000e+01,   5.30000000e+01,   2.00000000e+01,\n",
       "          0.00000000e+00,   1.00000000e+00]),\n",
       " array([   0. ,    7.2,   14.4,   21.6,   28.8,   36. ,   43.2,   50.4,\n",
       "          57.6,   64.8,   72. ,   79.2,   86.4,   93.6,  100.8,  108. ,\n",
       "         115.2,  122.4,  129.6,  136.8,  144. ,  151.2,  158.4,  165.6,\n",
       "         172.8,  180. ,  187.2,  194.4,  201.6,  208.8,  216. ,  223.2,\n",
       "         230.4,  237.6,  244.8,  252. ]),\n",
       " <a list of 35 Patch objects>)"
      ]
     },
     "execution_count": 31,
     "metadata": {},
     "output_type": "execute_result"
    },
    {
     "data": {
      "image/png": "[encoded data removed]",
      "text/plain": [
       "<matplotlib.figure.Figure at 0x1a2614adb38>"
      ]
     },
     "metadata": {},
     "output_type": "display_data"
    }
   ],
   "source": [
    "plt.hist(flitsmeister[\"Speed\"], bins=35)"
   ]
  },
  {
   "cell_type": "code",
   "execution_count": 41,
   "metadata": {
    "collapsed": true
   },
   "outputs": [],
   "source": [
    "flitsmeister['time'] = pd.to_datetime(flitsmeister['created_at'])"
   ]
  },
  {
   "cell_type": "code",
   "execution_count": 64,
   "metadata": {},
   "outputs": [
    {
     "data": {
      "text/html": [
       "<div>\n",
       "<style>\n",
       "    .dataframe thead tr:only-child th {\n",
       "        text-align: right;\n",
       "    }\n",
       "\n",
       "    .dataframe thead th {\n",
       "        text-align: left;\n",
       "    }\n",
       "\n",
       "    .dataframe tbody tr th {\n",
       "        vertical-align: top;\n",
       "    }\n",
       "</style>\n",
       "<table border=\"1\" class=\"dataframe\">\n",
       "  <thead>\n",
       "    <tr style=\"text-align: right;\">\n",
       "      <th></th>\n",
       "      <th>RowID</th>\n",
       "      <th>SessionID</th>\n",
       "      <th>Latitude</th>\n",
       "      <th>Longitude</th>\n",
       "      <th>Bearing</th>\n",
       "      <th>Speed</th>\n",
       "      <th>created_at</th>\n",
       "      <th>geohash</th>\n",
       "      <th>SessionCount</th>\n",
       "      <th>time</th>\n",
       "    </tr>\n",
       "  </thead>\n",
       "  <tbody>\n",
       "    <tr>\n",
       "      <th>0</th>\n",
       "      <td>456393953</td>\n",
       "      <td>FC847645-41FA-4C24-AB47-134042D9C1FB</td>\n",
       "      <td>51.864525</td>\n",
       "      <td>4.526764</td>\n",
       "      <td>284</td>\n",
       "      <td>46</td>\n",
       "      <td>Mon May 22 2017 14:58:03 GMT+0200 (CEST)</td>\n",
       "      <td>u15pp18</td>\n",
       "      <td>NaN</td>\n",
       "      <td>2017-05-22 16:58:03</td>\n",
       "    </tr>\n",
       "    <tr>\n",
       "      <th>1</th>\n",
       "      <td>456393954</td>\n",
       "      <td>FC847645-41FA-4C24-AB47-134042D9C1FB</td>\n",
       "      <td>51.864556</td>\n",
       "      <td>4.526617</td>\n",
       "      <td>286</td>\n",
       "      <td>39</td>\n",
       "      <td>Mon May 22 2017 14:58:03 GMT+0200 (CEST)</td>\n",
       "      <td>u15pp18</td>\n",
       "      <td>NaN</td>\n",
       "      <td>2017-05-22 16:58:03</td>\n",
       "    </tr>\n",
       "    <tr>\n",
       "      <th>2</th>\n",
       "      <td>456393955</td>\n",
       "      <td>FC847645-41FA-4C24-AB47-134042D9C1FB</td>\n",
       "      <td>51.864584</td>\n",
       "      <td>4.526479</td>\n",
       "      <td>287</td>\n",
       "      <td>37</td>\n",
       "      <td>Mon May 22 2017 14:58:03 GMT+0200 (CEST)</td>\n",
       "      <td>u15pp18</td>\n",
       "      <td>NaN</td>\n",
       "      <td>2017-05-22 16:58:03</td>\n",
       "    </tr>\n",
       "    <tr>\n",
       "      <th>3</th>\n",
       "      <td>456393956</td>\n",
       "      <td>FC847645-41FA-4C24-AB47-134042D9C1FB</td>\n",
       "      <td>51.864581</td>\n",
       "      <td>4.526385</td>\n",
       "      <td>285</td>\n",
       "      <td>28</td>\n",
       "      <td>Mon May 22 2017 14:58:03 GMT+0200 (CEST)</td>\n",
       "      <td>u15pp18</td>\n",
       "      <td>NaN</td>\n",
       "      <td>2017-05-22 16:58:03</td>\n",
       "    </tr>\n",
       "    <tr>\n",
       "      <th>4</th>\n",
       "      <td>456393957</td>\n",
       "      <td>FC847645-41FA-4C24-AB47-134042D9C1FB</td>\n",
       "      <td>51.864601</td>\n",
       "      <td>4.526271</td>\n",
       "      <td>286</td>\n",
       "      <td>28</td>\n",
       "      <td>Mon May 22 2017 14:58:03 GMT+0200 (CEST)</td>\n",
       "      <td>u15pncx</td>\n",
       "      <td>NaN</td>\n",
       "      <td>2017-05-22 16:58:03</td>\n",
       "    </tr>\n",
       "  </tbody>\n",
       "</table>\n",
       "</div>"
      ],
      "text/plain": [
       "       RowID                             SessionID   Latitude  Longitude  \\\n",
       "0  456393953  FC847645-41FA-4C24-AB47-134042D9C1FB  51.864525   4.526764   \n",
       "1  456393954  FC847645-41FA-4C24-AB47-134042D9C1FB  51.864556   4.526617   \n",
       "2  456393955  FC847645-41FA-4C24-AB47-134042D9C1FB  51.864584   4.526479   \n",
       "3  456393956  FC847645-41FA-4C24-AB47-134042D9C1FB  51.864581   4.526385   \n",
       "4  456393957  FC847645-41FA-4C24-AB47-134042D9C1FB  51.864601   4.526271   \n",
       "\n",
       "   Bearing  Speed                                created_at  geohash  \\\n",
       "0      284     46  Mon May 22 2017 14:58:03 GMT+0200 (CEST)  u15pp18   \n",
       "1      286     39  Mon May 22 2017 14:58:03 GMT+0200 (CEST)  u15pp18   \n",
       "2      287     37  Mon May 22 2017 14:58:03 GMT+0200 (CEST)  u15pp18   \n",
       "3      285     28  Mon May 22 2017 14:58:03 GMT+0200 (CEST)  u15pp18   \n",
       "4      286     28  Mon May 22 2017 14:58:03 GMT+0200 (CEST)  u15pncx   \n",
       "\n",
       "   SessionCount                time  \n",
       "0           NaN 2017-05-22 16:58:03  \n",
       "1           NaN 2017-05-22 16:58:03  \n",
       "2           NaN 2017-05-22 16:58:03  \n",
       "3           NaN 2017-05-22 16:58:03  \n",
       "4           NaN 2017-05-22 16:58:03  "
      ]
     },
     "execution_count": 64,
     "metadata": {},
     "output_type": "execute_result"
    }
   ],
   "source": [
    "flitsmeister[np.array(flitsmeister['time'] <= datetime.datetime(2017, 5, 22, 17, 8, 3))].head()"
   ]
  },
  {
   "cell_type": "code",
   "execution_count": 29,
   "metadata": {
    "collapsed": true
   },
   "outputs": [],
   "source": [
    "incident = pd.read_csv(\"../incident_with_xy.csv\")\n",
    "incident.columns = ['Unnamed: 0', 'V1', 'date', 'report_time', 'gemelde.locatie', 'y', 'x']\n",
    "incident['publicatedOn'] = pd.to_datetime(incident['date'] + \" \" +incident['report_time'])"
   ]
  },
  {
   "cell_type": "code",
   "execution_count": 33,
   "metadata": {},
   "outputs": [
    {
     "data": {
      "image/png": "[encoded data removed]",
      "text/plain": [
       "<matplotlib.figure.Figure at 0x17cdcdf16a0>"
      ]
     },
     "metadata": {},
     "output_type": "display_data"
    }
   ],
   "source": [
    "plt.plot(incident[\"y\"], incident[\"x\"], \".\")\n",
    "plt.show()"
   ]
  },
  {
   "cell_type": "code",
   "execution_count": 34,
   "metadata": {},
   "outputs": [
    {
     "data": {
      "image/png": "[encoded data removed]",
      "text/plain": [
       "<matplotlib.figure.Figure at 0x17cdcc70748>"
      ]
     },
     "metadata": {},
     "output_type": "display_data"
    }
   ],
   "source": [
    "plt.plot(waze['locationx'], waze['locationy'], \".\")\n",
    "plt.show()"
   ]
  },
  {
   "cell_type": "code",
   "execution_count": 35,
   "metadata": {},
   "outputs": [
    {
     "data": {
      "text/plain": [
       "array(['ROAD_CLOSED_EVENT', 'HAZARD_ON_ROAD_CONSTRUCTION',\n",
       "       'HAZARD_ON_SHOULDER_CAR_STOPPED', nan, 'POLICE_VISIBLE',\n",
       "       'ACCIDENT_MINOR', 'HAZARD_ON_ROAD_CAR_STOPPED',\n",
       "       'HAZARD_ON_ROAD_LANE_CLOSED', 'ROAD_CLOSED_HAZARD', 'POLICE_HIDING',\n",
       "       'HAZARD_ON_ROAD_OBJECT', 'HAZARD_ON_SHOULDER_ANIMALS',\n",
       "       'ACCIDENT_MAJOR', 'HAZARD_ON_SHOULDER', 'HAZARD_ON_ROAD_POT_HOLE',\n",
       "       'HAZARD_WEATHER', 'HAZARD_ON_SHOULDER_MISSING_SIGN',\n",
       "       'HAZARD_ON_ROAD_ROAD_KILL', 'HAZARD_ON_ROAD',\n",
       "       'ROAD_CLOSED_CONSTRUCTION', 'HAZARD_ON_ROAD_ICE'], dtype=object)"
      ]
     },
     "execution_count": 35,
     "metadata": {},
     "output_type": "execute_result"
    }
   ],
   "source": [
    "waze['subtype'].unique()"
   ]
  },
  {
   "cell_type": "code",
   "execution_count": 44,
   "metadata": {},
   "outputs": [
    {
     "data": {
      "text/plain": [
       "Timestamp('2017-05-21 00:08:55')"
      ]
     },
     "execution_count": 44,
     "metadata": {},
     "output_type": "execute_result"
    }
   ],
   "source": [
    "waze['publicatedOn'].min()"
   ]
  },
  {
   "cell_type": "code",
   "execution_count": 320,
   "metadata": {},
   "outputs": [
    {
     "data": {
      "text/html": [
       "<div>\n",
       "<style>\n",
       "    .dataframe thead tr:only-child th {\n",
       "        text-align: right;\n",
       "    }\n",
       "\n",
       "    .dataframe thead th {\n",
       "        text-align: left;\n",
       "    }\n",
       "\n",
       "    .dataframe tbody tr th {\n",
       "        vertical-align: top;\n",
       "    }\n",
       "</style>\n",
       "<table border=\"1\" class=\"dataframe\">\n",
       "  <thead>\n",
       "    <tr style=\"text-align: right;\">\n",
       "      <th></th>\n",
       "      <th>Unnamed: 0</th>\n",
       "      <th>V1</th>\n",
       "      <th>date</th>\n",
       "      <th>report_time</th>\n",
       "      <th>gemelde.locatie</th>\n",
       "      <th>y</th>\n",
       "      <th>x</th>\n",
       "      <th>publicated_on</th>\n",
       "      <th>publicatedOn</th>\n",
       "    </tr>\n",
       "  </thead>\n",
       "  <tbody>\n",
       "    <tr>\n",
       "      <th>0</th>\n",
       "      <td>1</td>\n",
       "      <td>0</td>\n",
       "      <td>2017-05-23</td>\n",
       "      <td>09:30:12.999000</td>\n",
       "      <td>27/37,9</td>\n",
       "      <td>51.855369</td>\n",
       "      <td>4.954711</td>\n",
       "      <td>2017-05-23 09:30:12.999</td>\n",
       "      <td>2017-05-23 09:30:12.999</td>\n",
       "    </tr>\n",
       "    <tr>\n",
       "      <th>1</th>\n",
       "      <td>2</td>\n",
       "      <td>1</td>\n",
       "      <td>2017-05-24</td>\n",
       "      <td>07:49:54.999000</td>\n",
       "      <td>15/95,8</td>\n",
       "      <td>51.846133</td>\n",
       "      <td>4.950630</td>\n",
       "      <td>2017-05-24 07:49:54.999</td>\n",
       "      <td>2017-05-24 07:49:54.999</td>\n",
       "    </tr>\n",
       "    <tr>\n",
       "      <th>2</th>\n",
       "      <td>3</td>\n",
       "      <td>2</td>\n",
       "      <td>2017-05-24</td>\n",
       "      <td>10:08:08.999000</td>\n",
       "      <td>15/102,5</td>\n",
       "      <td>51.839749</td>\n",
       "      <td>5.047208</td>\n",
       "      <td>2017-05-24 10:08:08.999</td>\n",
       "      <td>2017-05-24 10:08:08.999</td>\n",
       "    </tr>\n",
       "    <tr>\n",
       "      <th>3</th>\n",
       "      <td>4</td>\n",
       "      <td>3</td>\n",
       "      <td>2017-05-26</td>\n",
       "      <td>17:44:37</td>\n",
       "      <td>15/65,3</td>\n",
       "      <td>51.866261</td>\n",
       "      <td>4.584767</td>\n",
       "      <td>2017-05-26 17:44:37.000</td>\n",
       "      <td>2017-05-26 17:44:37.000</td>\n",
       "    </tr>\n",
       "    <tr>\n",
       "      <th>4</th>\n",
       "      <td>5</td>\n",
       "      <td>4</td>\n",
       "      <td>2017-05-26</td>\n",
       "      <td>20:26:48.999000</td>\n",
       "      <td>15/79,1</td>\n",
       "      <td>51.837240</td>\n",
       "      <td>4.721092</td>\n",
       "      <td>2017-05-26 20:26:48.999</td>\n",
       "      <td>2017-05-26 20:26:48.999</td>\n",
       "    </tr>\n",
       "  </tbody>\n",
       "</table>\n",
       "</div>"
      ],
      "text/plain": [
       "   Unnamed: 0  V1        date      report_time gemelde.locatie          y  \\\n",
       "0           1   0  2017-05-23  09:30:12.999000         27/37,9  51.855369   \n",
       "1           2   1  2017-05-24  07:49:54.999000         15/95,8  51.846133   \n",
       "2           3   2  2017-05-24  10:08:08.999000        15/102,5  51.839749   \n",
       "3           4   3  2017-05-26         17:44:37         15/65,3  51.866261   \n",
       "4           5   4  2017-05-26  20:26:48.999000         15/79,1  51.837240   \n",
       "\n",
       "          x           publicated_on            publicatedOn  \n",
       "0  4.954711 2017-05-23 09:30:12.999 2017-05-23 09:30:12.999  \n",
       "1  4.950630 2017-05-24 07:49:54.999 2017-05-24 07:49:54.999  \n",
       "2  5.047208 2017-05-24 10:08:08.999 2017-05-24 10:08:08.999  \n",
       "3  4.584767 2017-05-26 17:44:37.000 2017-05-26 17:44:37.000  \n",
       "4  4.721092 2017-05-26 20:26:48.999 2017-05-26 20:26:48.999  "
      ]
     },
     "execution_count": 320,
     "metadata": {},
     "output_type": "execute_result"
    }
   ],
   "source": [
    "incident.head()"
   ]
  },
  {
   "cell_type": "code",
   "execution_count": 51,
   "metadata": {},
   "outputs": [
    {
     "data": {
      "text/plain": [
       "Timestamp('2017-06-04 00:00:00')"
      ]
     },
     "execution_count": 51,
     "metadata": {},
     "output_type": "execute_result"
    }
   ],
   "source": [
    "pd.to_datetime(incident['date']).max()"
   ]
  },
  {
   "cell_type": "code",
   "execution_count": 62,
   "metadata": {},
   "outputs": [
    {
     "name": "stdout",
     "output_type": "stream",
     "text": [
      "4.22436306271 51.955889\n"
     ]
    }
   ],
   "source": [
    "print(waze[\"locationx\"].min(), waze[\"locationy\"].max())"
   ]
  },
  {
   "cell_type": "code",
   "execution_count": 63,
   "metadata": {},
   "outputs": [
    {
     "name": "stdout",
     "output_type": "stream",
     "text": [
      "4.576501 51.862621\n"
     ]
    }
   ],
   "source": [
    "print(waze[\"locationx\"].max(), waze[\"locationy\"].min())"
   ]
  },
  {
   "cell_type": "code",
   "execution_count": 140,
   "metadata": {
    "collapsed": true
   },
   "outputs": [],
   "source": [
    "diff_x = waze[\"locationx\"].max() - waze[\"locationx\"].min()\n",
    "diff_y = waze[\"locationy\"].max() - waze[\"locationy\"].min()"
   ]
  },
  {
   "cell_type": "code",
   "execution_count": 141,
   "metadata": {},
   "outputs": [],
   "source": [
    "diff_x /= 10\n",
    "diff_y /= 10"
   ]
  },
  {
   "cell_type": "code",
   "execution_count": 142,
   "metadata": {},
   "outputs": [],
   "source": [
    "x_co = [waze[\"locationx\"].min()+diff_x*i for i in range(11)]"
   ]
  },
  {
   "cell_type": "code",
   "execution_count": 143,
   "metadata": {},
   "outputs": [],
   "source": [
    "y_co = [waze[\"locationy\"].max()-diff_y*i for i in range(11)]"
   ]
  },
  {
   "cell_type": "code",
   "execution_count": 326,
   "metadata": {
    "collapsed": true
   },
   "outputs": [],
   "source": [
    "counter = 1\n",
    "dict_coord = {}\n",
    "for y in range(1,10):\n",
    "    for x in range(1, 10):\n",
    "        dict_coord[x, y] = counter\n",
    "        counter +=1"
   ]
  },
  {
   "cell_type": "code",
   "execution_count": 330,
   "metadata": {},
   "outputs": [],
   "source": [
    "def grider(row):\n",
    "    for i, x in enumerate(x_co[:-1]):\n",
    "        if x <= row['x'] <= x_co[i+1]:\n",
    "            x_op = i\n",
    "\n",
    "    for i, y in enumerate(y_co[:-1]):\n",
    "        if y >= row['y'] >= y_co[i+1]:\n",
    "            y_op = i\n",
    "\n",
    "    try:\n",
    "        num = dict_coord[(x_op, y_op)]\n",
    "    except:\n",
    "        num = None\n",
    "    return num"
   ]
  },
  {
   "cell_type": "code",
   "execution_count": 331,
   "metadata": {},
   "outputs": [],
   "source": [
    "data_train = pd.DataFrame()\n",
    "for index, row in waze.iterrows():\n",
    "    if grider(row) != None:\n",
    "            data_train = data_train.append(pd.DataFrame([1, grider(row), row['publicatedOn']]).T)"
   ]
  },
  {
   "cell_type": "code",
   "execution_count": 334,
   "metadata": {},
   "outputs": [],
   "source": [
    "data_train.to_csv(\"../feature_for_grid.csv\")"
   ]
  },
  {
   "cell_type": "code",
   "execution_count": 333,
   "metadata": {},
   "outputs": [
    {
     "data": {
      "text/html": [
       "<div>\n",
       "<style>\n",
       "    .dataframe thead tr:only-child th {\n",
       "        text-align: right;\n",
       "    }\n",
       "\n",
       "    .dataframe thead th {\n",
       "        text-align: left;\n",
       "    }\n",
       "\n",
       "    .dataframe tbody tr th {\n",
       "        vertical-align: top;\n",
       "    }\n",
       "</style>\n",
       "<table border=\"1\" class=\"dataframe\">\n",
       "  <thead>\n",
       "    <tr style=\"text-align: right;\">\n",
       "      <th></th>\n",
       "      <th>0</th>\n",
       "      <th>1</th>\n",
       "      <th>2</th>\n",
       "    </tr>\n",
       "  </thead>\n",
       "  <tbody>\n",
       "    <tr>\n",
       "      <th>0</th>\n",
       "      <td>1</td>\n",
       "      <td>52</td>\n",
       "      <td>2017-05-21 00:08:55</td>\n",
       "    </tr>\n",
       "    <tr>\n",
       "      <th>0</th>\n",
       "      <td>1</td>\n",
       "      <td>22</td>\n",
       "      <td>2017-05-21 00:42:35</td>\n",
       "    </tr>\n",
       "    <tr>\n",
       "      <th>0</th>\n",
       "      <td>1</td>\n",
       "      <td>69</td>\n",
       "      <td>2017-05-21 01:25:09</td>\n",
       "    </tr>\n",
       "    <tr>\n",
       "      <th>0</th>\n",
       "      <td>1</td>\n",
       "      <td>78</td>\n",
       "      <td>2017-05-21 01:25:47</td>\n",
       "    </tr>\n",
       "    <tr>\n",
       "      <th>0</th>\n",
       "      <td>1</td>\n",
       "      <td>23</td>\n",
       "      <td>2017-05-21 04:16:59</td>\n",
       "    </tr>\n",
       "  </tbody>\n",
       "</table>\n",
       "</div>"
      ],
      "text/plain": [
       "   0   1                    2\n",
       "0  1  52  2017-05-21 00:08:55\n",
       "0  1  22  2017-05-21 00:42:35\n",
       "0  1  69  2017-05-21 01:25:09\n",
       "0  1  78  2017-05-21 01:25:47\n",
       "0  1  23  2017-05-21 04:16:59"
      ]
     },
     "execution_count": 333,
     "metadata": {},
     "output_type": "execute_result"
    }
   ],
   "source": [
    "data_train.head()"
   ]
  },
  {
   "cell_type": "code",
   "execution_count": 208,
   "metadata": {
    "collapsed": true
   },
   "outputs": [],
   "source": [
    "temp = pd.read_csv(\"../flitsmeister week 21 22/2017-05-22_00.csv\")"
   ]
  },
  {
   "cell_type": "code",
   "execution_count": null,
   "metadata": {},
   "outputs": [],
   "source": [
    "#func = {'Speed':['mean', 'max', \"std\", \"min\"], 'SessionID':['nunique']}\n",
    "features = pd.DataFrame()\n",
    "for file in os.listdir(\"../flitsmeister week 21 22/\"):\n",
    "    if file.endswith(\".gz\"):\n",
    "        with gzip.open(\"../flitsmeister week 21 22/\" + file, \"r\") as f:\n",
    "            try:\n",
    "                temp = pd.read_csv(f)\n",
    "                temp.columns = ['RowID', 'SessionID', 'y', 'x', 'Bearing', 'Speed',\n",
    "           'created_at', 'geohash', 'SessionCount']\n",
    "                #temp[\"grid\"] = temp.apply(lambda x: grider(x), axis=1)\n",
    "                #to_concat = temp.groupby([\"grid\"])[\"Speed\"].agg(func)\n",
    "                #to_concat = pd.DataFrame(to_concat.reset_index().as_matrix(), columns=['grid', \"speed_mean\", \"speed_max\", \"speed_std\", \"speed_min\", \"count\" ])\n",
    "                func = {'Speed':['mean', 'max', \"std\", \"min\"], 'y':['mean'], \"x\":['mean']}\n",
    "                temp_agg = temp.groupby([\"SessionID\"]).agg(func)\n",
    "                temp_agg = pd.DataFrame(temp_agg.as_matrix(), columns=['speed_mean', 'speed_max', \"speed_std\", \"speed_min\",\n",
    "                                                           \"y\", \"x\"])\n",
    "                temp_agg[\"grid\"] = -1\n",
    "                for ix, row in temp_agg.iterrows():\n",
    "                    temp_agg.loc[ix, \"grid\"] = grider(row)\n",
    "                temp_agg[\"date\"] = file.split(\".\")[0]\n",
    "                print(file.split(\".\")[0])\n",
    "                features = features.append(temp_agg)\n",
    "                print(\"Finished with \" + file)\n",
    "            except:\n",
    "                continue"
   ]
  },
  {
   "cell_type": "code",
   "execution_count": 367,
   "metadata": {},
   "outputs": [],
   "source": [
    "#features.to_csv(\"../features.csv\")"
   ]
  },
  {
   "cell_type": "code",
   "execution_count": 5,
   "metadata": {},
   "outputs": [
    {
     "data": {
      "text/html": [
       "<div>\n",
       "<style>\n",
       "    .dataframe thead tr:only-child th {\n",
       "        text-align: right;\n",
       "    }\n",
       "\n",
       "    .dataframe thead th {\n",
       "        text-align: left;\n",
       "    }\n",
       "\n",
       "    .dataframe tbody tr th {\n",
       "        vertical-align: top;\n",
       "    }\n",
       "</style>\n",
       "<table border=\"1\" class=\"dataframe\">\n",
       "  <thead>\n",
       "    <tr style=\"text-align: right;\">\n",
       "      <th></th>\n",
       "      <th>Unnamed: 0</th>\n",
       "      <th>speed_mean</th>\n",
       "      <th>speed_max</th>\n",
       "      <th>speed_std</th>\n",
       "      <th>speed_min</th>\n",
       "      <th>y</th>\n",
       "      <th>x</th>\n",
       "      <th>grid</th>\n",
       "      <th>date</th>\n",
       "    </tr>\n",
       "  </thead>\n",
       "  <tbody>\n",
       "    <tr>\n",
       "      <th>0</th>\n",
       "      <td>0</td>\n",
       "      <td>107.674931</td>\n",
       "      <td>146.0</td>\n",
       "      <td>27.909145</td>\n",
       "      <td>66.0</td>\n",
       "      <td>51.923162</td>\n",
       "      <td>4.504515</td>\n",
       "      <td>25.0</td>\n",
       "      <td>2017-05-22_00</td>\n",
       "    </tr>\n",
       "    <tr>\n",
       "      <th>1</th>\n",
       "      <td>1</td>\n",
       "      <td>139.439560</td>\n",
       "      <td>178.0</td>\n",
       "      <td>17.145918</td>\n",
       "      <td>115.0</td>\n",
       "      <td>51.876314</td>\n",
       "      <td>4.572905</td>\n",
       "      <td>72.0</td>\n",
       "      <td>2017-05-22_00</td>\n",
       "    </tr>\n",
       "    <tr>\n",
       "      <th>2</th>\n",
       "      <td>2</td>\n",
       "      <td>119.498054</td>\n",
       "      <td>141.0</td>\n",
       "      <td>20.024423</td>\n",
       "      <td>19.0</td>\n",
       "      <td>51.885456</td>\n",
       "      <td>4.564509</td>\n",
       "      <td>63.0</td>\n",
       "      <td>2017-05-22_00</td>\n",
       "    </tr>\n",
       "    <tr>\n",
       "      <th>3</th>\n",
       "      <td>3</td>\n",
       "      <td>101.987520</td>\n",
       "      <td>118.0</td>\n",
       "      <td>9.905010</td>\n",
       "      <td>0.0</td>\n",
       "      <td>51.883272</td>\n",
       "      <td>4.425730</td>\n",
       "      <td>59.0</td>\n",
       "      <td>2017-05-22_00</td>\n",
       "    </tr>\n",
       "    <tr>\n",
       "      <th>4</th>\n",
       "      <td>4</td>\n",
       "      <td>63.180233</td>\n",
       "      <td>82.0</td>\n",
       "      <td>18.516851</td>\n",
       "      <td>17.0</td>\n",
       "      <td>51.937475</td>\n",
       "      <td>4.431121</td>\n",
       "      <td>5.0</td>\n",
       "      <td>2017-05-22_00</td>\n",
       "    </tr>\n",
       "    <tr>\n",
       "      <th>5</th>\n",
       "      <td>5</td>\n",
       "      <td>121.197107</td>\n",
       "      <td>134.0</td>\n",
       "      <td>12.097694</td>\n",
       "      <td>82.0</td>\n",
       "      <td>51.878232</td>\n",
       "      <td>4.466523</td>\n",
       "      <td>69.0</td>\n",
       "      <td>2017-05-22_00</td>\n",
       "    </tr>\n",
       "    <tr>\n",
       "      <th>6</th>\n",
       "      <td>6</td>\n",
       "      <td>75.811111</td>\n",
       "      <td>83.0</td>\n",
       "      <td>3.934561</td>\n",
       "      <td>66.0</td>\n",
       "      <td>51.934747</td>\n",
       "      <td>4.449704</td>\n",
       "      <td>15.0</td>\n",
       "      <td>2017-05-22_00</td>\n",
       "    </tr>\n",
       "    <tr>\n",
       "      <th>7</th>\n",
       "      <td>7</td>\n",
       "      <td>137.302885</td>\n",
       "      <td>151.0</td>\n",
       "      <td>9.648889</td>\n",
       "      <td>108.0</td>\n",
       "      <td>51.913590</td>\n",
       "      <td>4.543788</td>\n",
       "      <td>36.0</td>\n",
       "      <td>2017-05-22_00</td>\n",
       "    </tr>\n",
       "    <tr>\n",
       "      <th>8</th>\n",
       "      <td>8</td>\n",
       "      <td>75.790123</td>\n",
       "      <td>87.0</td>\n",
       "      <td>3.700650</td>\n",
       "      <td>67.0</td>\n",
       "      <td>51.939301</td>\n",
       "      <td>4.429959</td>\n",
       "      <td>5.0</td>\n",
       "      <td>2017-05-22_00</td>\n",
       "    </tr>\n",
       "    <tr>\n",
       "      <th>9</th>\n",
       "      <td>9</td>\n",
       "      <td>114.485591</td>\n",
       "      <td>203.0</td>\n",
       "      <td>26.753035</td>\n",
       "      <td>59.0</td>\n",
       "      <td>51.921418</td>\n",
       "      <td>4.508817</td>\n",
       "      <td>26.0</td>\n",
       "      <td>2017-05-22_00</td>\n",
       "    </tr>\n",
       "  </tbody>\n",
       "</table>\n",
       "</div>"
      ],
      "text/plain": [
       "   Unnamed: 0  speed_mean  speed_max  speed_std  speed_min          y  \\\n",
       "0           0  107.674931      146.0  27.909145       66.0  51.923162   \n",
       "1           1  139.439560      178.0  17.145918      115.0  51.876314   \n",
       "2           2  119.498054      141.0  20.024423       19.0  51.885456   \n",
       "3           3  101.987520      118.0   9.905010        0.0  51.883272   \n",
       "4           4   63.180233       82.0  18.516851       17.0  51.937475   \n",
       "5           5  121.197107      134.0  12.097694       82.0  51.878232   \n",
       "6           6   75.811111       83.0   3.934561       66.0  51.934747   \n",
       "7           7  137.302885      151.0   9.648889      108.0  51.913590   \n",
       "8           8   75.790123       87.0   3.700650       67.0  51.939301   \n",
       "9           9  114.485591      203.0  26.753035       59.0  51.921418   \n",
       "\n",
       "          x  grid           date  \n",
       "0  4.504515  25.0  2017-05-22_00  \n",
       "1  4.572905  72.0  2017-05-22_00  \n",
       "2  4.564509  63.0  2017-05-22_00  \n",
       "3  4.425730  59.0  2017-05-22_00  \n",
       "4  4.431121   5.0  2017-05-22_00  \n",
       "5  4.466523  69.0  2017-05-22_00  \n",
       "6  4.449704  15.0  2017-05-22_00  \n",
       "7  4.543788  36.0  2017-05-22_00  \n",
       "8  4.429959   5.0  2017-05-22_00  \n",
       "9  4.508817  26.0  2017-05-22_00  "
      ]
     },
     "execution_count": 5,
     "metadata": {},
     "output_type": "execute_result"
    }
   ],
   "source": [
    "features = pd.read_csv(\"../features.csv\")\n",
    "features.head(10)"
   ]
  },
  {
   "cell_type": "code",
   "execution_count": 7,
   "metadata": {},
   "outputs": [],
   "source": [
    "times = pd.to_datetime(features[\"date\"], format=\"%Y-%m-%d_%H\")"
   ]
  },
  {
   "cell_type": "code",
   "execution_count": 18,
   "metadata": {},
   "outputs": [],
   "source": [
    "times_hour = times.dt.strftime(\"%Y-%m-%d %H\")"
   ]
  },
  {
   "cell_type": "code",
   "execution_count": 19,
   "metadata": {},
   "outputs": [],
   "source": [
    "features[\"time\"] = times_hour"
   ]
  },
  {
   "cell_type": "code",
   "execution_count": 32,
   "metadata": {},
   "outputs": [],
   "source": [
    "weather = pd.read_csv(\"../weather.csv\", encoding=\"latin-1\")\n",
    "weather[\"time\"] = pd.to_datetime(weather[\"Time\"])"
   ]
  },
  {
   "cell_type": "code",
   "execution_count": 33,
   "metadata": {},
   "outputs": [],
   "source": [
    "weather[\"time\"] = weather[\"time\"].dt.strftime(\"%Y-%m-%d %H\")"
   ]
  },
  {
   "cell_type": "code",
   "execution_count": 37,
   "metadata": {},
   "outputs": [],
   "source": [
    "del weather[\"Time\"]"
   ]
  },
  {
   "cell_type": "code",
   "execution_count": 42,
   "metadata": {},
   "outputs": [],
   "source": [
    "weather = weather.groupby([\"time\"]).first().reset_index()"
   ]
  },
  {
   "cell_type": "code",
   "execution_count": 44,
   "metadata": {},
   "outputs": [],
   "source": [
    "merged_feat_weat = pd.merge(weather, features)"
   ]
  },
  {
   "cell_type": "code",
   "execution_count": 45,
   "metadata": {},
   "outputs": [
    {
     "data": {
      "text/html": [
       "<div>\n",
       "<style>\n",
       "    .dataframe thead tr:only-child th {\n",
       "        text-align: right;\n",
       "    }\n",
       "\n",
       "    .dataframe thead th {\n",
       "        text-align: left;\n",
       "    }\n",
       "\n",
       "    .dataframe tbody tr th {\n",
       "        vertical-align: top;\n",
       "    }\n",
       "</style>\n",
       "<table border=\"1\" class=\"dataframe\">\n",
       "  <thead>\n",
       "    <tr style=\"text-align: right;\">\n",
       "      <th></th>\n",
       "      <th>time</th>\n",
       "      <th>Temp</th>\n",
       "      <th>Weather</th>\n",
       "      <th>Wind</th>\n",
       "      <th>Humidity</th>\n",
       "      <th>Barometer</th>\n",
       "      <th>Visibility</th>\n",
       "      <th>Unnamed: 0</th>\n",
       "      <th>speed_mean</th>\n",
       "      <th>speed_max</th>\n",
       "      <th>speed_std</th>\n",
       "      <th>speed_min</th>\n",
       "      <th>y</th>\n",
       "      <th>x</th>\n",
       "      <th>grid</th>\n",
       "      <th>date</th>\n",
       "    </tr>\n",
       "  </thead>\n",
       "  <tbody>\n",
       "    <tr>\n",
       "      <th>0</th>\n",
       "      <td>2017-05-22 00</td>\n",
       "      <td>12</td>\n",
       "      <td>Cool.</td>\n",
       "      <td>9 km/h</td>\n",
       "      <td>88%</td>\n",
       "      <td>1022 mbar</td>\n",
       "      <td>NaN</td>\n",
       "      <td>0</td>\n",
       "      <td>107.674931</td>\n",
       "      <td>146.0</td>\n",
       "      <td>27.909145</td>\n",
       "      <td>66.0</td>\n",
       "      <td>51.923162</td>\n",
       "      <td>4.504515</td>\n",
       "      <td>25.0</td>\n",
       "      <td>2017-05-22_00</td>\n",
       "    </tr>\n",
       "    <tr>\n",
       "      <th>1</th>\n",
       "      <td>2017-05-22 00</td>\n",
       "      <td>12</td>\n",
       "      <td>Cool.</td>\n",
       "      <td>9 km/h</td>\n",
       "      <td>88%</td>\n",
       "      <td>1022 mbar</td>\n",
       "      <td>NaN</td>\n",
       "      <td>1</td>\n",
       "      <td>139.439560</td>\n",
       "      <td>178.0</td>\n",
       "      <td>17.145918</td>\n",
       "      <td>115.0</td>\n",
       "      <td>51.876314</td>\n",
       "      <td>4.572905</td>\n",
       "      <td>72.0</td>\n",
       "      <td>2017-05-22_00</td>\n",
       "    </tr>\n",
       "    <tr>\n",
       "      <th>2</th>\n",
       "      <td>2017-05-22 00</td>\n",
       "      <td>12</td>\n",
       "      <td>Cool.</td>\n",
       "      <td>9 km/h</td>\n",
       "      <td>88%</td>\n",
       "      <td>1022 mbar</td>\n",
       "      <td>NaN</td>\n",
       "      <td>2</td>\n",
       "      <td>119.498054</td>\n",
       "      <td>141.0</td>\n",
       "      <td>20.024423</td>\n",
       "      <td>19.0</td>\n",
       "      <td>51.885456</td>\n",
       "      <td>4.564509</td>\n",
       "      <td>63.0</td>\n",
       "      <td>2017-05-22_00</td>\n",
       "    </tr>\n",
       "    <tr>\n",
       "      <th>3</th>\n",
       "      <td>2017-05-22 00</td>\n",
       "      <td>12</td>\n",
       "      <td>Cool.</td>\n",
       "      <td>9 km/h</td>\n",
       "      <td>88%</td>\n",
       "      <td>1022 mbar</td>\n",
       "      <td>NaN</td>\n",
       "      <td>3</td>\n",
       "      <td>101.987520</td>\n",
       "      <td>118.0</td>\n",
       "      <td>9.905010</td>\n",
       "      <td>0.0</td>\n",
       "      <td>51.883272</td>\n",
       "      <td>4.425730</td>\n",
       "      <td>59.0</td>\n",
       "      <td>2017-05-22_00</td>\n",
       "    </tr>\n",
       "    <tr>\n",
       "      <th>4</th>\n",
       "      <td>2017-05-22 00</td>\n",
       "      <td>12</td>\n",
       "      <td>Cool.</td>\n",
       "      <td>9 km/h</td>\n",
       "      <td>88%</td>\n",
       "      <td>1022 mbar</td>\n",
       "      <td>NaN</td>\n",
       "      <td>4</td>\n",
       "      <td>63.180233</td>\n",
       "      <td>82.0</td>\n",
       "      <td>18.516851</td>\n",
       "      <td>17.0</td>\n",
       "      <td>51.937475</td>\n",
       "      <td>4.431121</td>\n",
       "      <td>5.0</td>\n",
       "      <td>2017-05-22_00</td>\n",
       "    </tr>\n",
       "  </tbody>\n",
       "</table>\n",
       "</div>"
      ],
      "text/plain": [
       "            time  Temp Weather    Wind Humidity  Barometer Visibility  \\\n",
       "0  2017-05-22 00    12   Cool.  9 km/h      88%  1022 mbar        NaN   \n",
       "1  2017-05-22 00    12   Cool.  9 km/h      88%  1022 mbar        NaN   \n",
       "2  2017-05-22 00    12   Cool.  9 km/h      88%  1022 mbar        NaN   \n",
       "3  2017-05-22 00    12   Cool.  9 km/h      88%  1022 mbar        NaN   \n",
       "4  2017-05-22 00    12   Cool.  9 km/h      88%  1022 mbar        NaN   \n",
       "\n",
       "   Unnamed: 0  speed_mean  speed_max  speed_std  speed_min          y  \\\n",
       "0           0  107.674931      146.0  27.909145       66.0  51.923162   \n",
       "1           1  139.439560      178.0  17.145918      115.0  51.876314   \n",
       "2           2  119.498054      141.0  20.024423       19.0  51.885456   \n",
       "3           3  101.987520      118.0   9.905010        0.0  51.883272   \n",
       "4           4   63.180233       82.0  18.516851       17.0  51.937475   \n",
       "\n",
       "          x  grid           date  \n",
       "0  4.504515  25.0  2017-05-22_00  \n",
       "1  4.572905  72.0  2017-05-22_00  \n",
       "2  4.564509  63.0  2017-05-22_00  \n",
       "3  4.425730  59.0  2017-05-22_00  \n",
       "4  4.431121   5.0  2017-05-22_00  "
      ]
     },
     "execution_count": 45,
     "metadata": {},
     "output_type": "execute_result"
    }
   ],
   "source": [
    "merged_feat_weat.head()"
   ]
  },
  {
   "cell_type": "code",
   "execution_count": 46,
   "metadata": {
    "collapsed": true
   },
   "outputs": [],
   "source": [
    "incidents_xy = pd.read_csv(\"../incident_with_xy.csv\")"
   ]
  },
  {
   "cell_type": "code",
   "execution_count": 49,
   "metadata": {},
   "outputs": [],
   "source": [
    "incidents_xy['time'] = incidents_xy[\"date\"] + \" \" + incidents_xy[\"report_time\"]"
   ]
  },
  {
   "cell_type": "code",
   "execution_count": 54,
   "metadata": {},
   "outputs": [],
   "source": [
    "incidents_xy['time'] = pd.to_datetime(incidents_xy[\"time\"]).dt.strftime(\"%Y-%m-%d %H\")"
   ]
  },
  {
   "cell_type": "code",
   "execution_count": null,
   "metadata": {
    "collapsed": true
   },
   "outputs": [],
   "source": []
  }
 ],
 "metadata": {
  "kernelspec": {
   "display_name": "Python 3",
   "language": "python",
   "name": "python3"
  },
  "language_info": {
   "codemirror_mode": {
    "name": "ipython",
    "version": 3
   },
   "file_extension": ".py",
   "mimetype": "text/x-python",
   "name": "python",
   "nbconvert_exporter": "python",
   "pygments_lexer": "ipython3",
   "version": "3.6.1"
  }
 },
 "nbformat": 4,
 "nbformat_minor": 2
}
